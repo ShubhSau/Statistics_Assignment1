{
 "cells": [
  {
   "cell_type": "markdown",
   "id": "12940162-c761-485c-ab90-922101eb7a31",
   "metadata": {},
   "source": [
    "Q1. What is Statistics?"
   ]
  },
  {
   "cell_type": "markdown",
   "id": "804041cf-0a52-48db-bdca-1db3d2d9457a",
   "metadata": {},
   "source": [
    "A1: Statistics is the study of the collection, analysis, interpretation, presentation, and organization of data. In other words, it is a mathematical discipline to collect, summarize data."
   ]
  },
  {
   "cell_type": "markdown",
   "id": "b2af076a-f068-411d-a938-b45ae0f72c56",
   "metadata": {},
   "source": [
    "Q2. Define the different types of statistics and give an example of when each type might be used."
   ]
  },
  {
   "cell_type": "markdown",
   "id": "48724eae-6a6f-4720-b983-998c88c7f9f2",
   "metadata": {},
   "source": [
    "A2: Types of statistics :\n",
    "    \n",
    "  1. Descriptive Statistics: The data is summarised and explained in descriptive statistics. The summarization is done from a population sample utilising several factors such as mean and standard deviation. Descriptive statistics is a way of organising, representing, and explaining a set of data using charts, graphs, and summary measures. Histograms, pie charts, bars, and scatter plots are common ways to summarise data and present it in tables or graphs.\n",
    "  \n",
    "  2. Inferential Statistics: We attempt to interpret the meaning of descriptive statistics using inferential statistics. We utilise inferential statistics to convey the meaning of the collected data after it has been collected, evaluated, and summarised. Inferential statistics are used to derive conclusions and inferences from samples, i.e. to create accurate generalisations.\n",
    "  "
   ]
  },
  {
   "cell_type": "markdown",
   "id": "9c122e14-8cd4-44d0-8881-682cd907f8d1",
   "metadata": {},
   "source": [
    "Q3. What are the different types of data and how do they differ from each other? Provide an example of each type of data."
   ]
  },
  {
   "cell_type": "markdown",
   "id": "ed618adf-a03e-4841-b68e-600ee43d1837",
   "metadata": {},
   "source": [
    "A3. There are two types of data:\n",
    "    1. Qualitative data\n",
    "    2. Quantitative data\n",
    "    which are further classified into four categories:\n",
    "        1.Nominal data\n",
    "        2.Ordinal data\n",
    "        3.Discrete data\n",
    "        4.Continuous data\n",
    "        \n",
    "Qualitative or Categorical data: is data that can’t be measured or counted in the form of numbers. These types of data are sorted by category, not by number. These data consist of audio, images, symbols, or text. The gender of a person, i.e., male, female, or others.\n",
    "\n",
    "    1. Nominal Data:  It is used to label variables without any order or quantitative value. The color of hair can be considered nominal data, as one color can’t be compared with another color.\n",
    "        Example: Colour of hair (Blonde, red, Brown, Black, etc.)\n",
    "                Marital status (Single, Widowed, Married)\n",
    "                Gender (Male, Female, Others)\n",
    "                Eye Color (Black, Brown, etc.)\n",
    "                \n",
    "    2. Ordinal Data: Ordinal data have natural ordering where a number is present in some kind of order by their position on the scale. These data are used for observation like customer satisfaction, happiness, etc., but we can’t do any arithmetical tasks on them. \n",
    "        Example: feedback, experience, or satisfaction on a scale of 1 to 10\n",
    "                Economic Status (High, Medium, and Low)\n",
    "                Education Level (Higher, Secondary, Primary)\n",
    "                \n",
    "Quantitative Data: It can be expressed in numerical values, making it countable and including statistical data analysis. These kinds of data are also known as Numerical data. It answers the questions like “how much,” “how many,” and “how often.” For example, the price of a phone, the height or weight of a person, etc., falls under quantitative data. \n",
    "\n",
    "    1. Discrete Data: The discrete data contain the values that fall under integers or whole numbers. The total number of students in a class is an example of discrete data. These data can’t be broken into decimal or fraction values.\n",
    "        Example: Total numbers of students present in a class\n",
    "                Cost of a cell phone\n",
    "                Numbers of employees in a company\n",
    "                \n",
    "    2. Continuous Data: This data are in the form of fractional numbers. It can be the height of a person, the length of an object, etc. Continuous data represents information that can be divided into smaller levels. The continuous variable can take any value within a range.\n",
    "        Example: Height and weight of a person\n",
    "                Speed of a vehicle\n",
    "                Market share price"
   ]
  },
  {
   "cell_type": "markdown",
   "id": "bfe1b6be-1b2f-4900-ab53-bfb0b8023dea",
   "metadata": {},
   "source": [
    "Q4. Categorise the following datasets with respect to quantitative and qualitative data types:\n",
    "(i) Grading in exam: A+, A, B+, B, C+, C, D, E\n",
    "(ii) Colour of mangoes: yellow, green, orange, red\n",
    "(iii) Height data of a class: [178.9, 179, 179.5, 176, 177.2, 178.3, 175.8,...]\n",
    "(iv) Number of mangoes exported by a farm: [500, 600, 478, 672, ...]"
   ]
  },
  {
   "cell_type": "markdown",
   "id": "eed149fa-2d83-4eec-ab51-b2d4542bd12a",
   "metadata": {},
   "source": [
    "A4. (i) Qualitative data\n",
    "    (ii) Qualitative data\n",
    "    (iii) Quantitative data\n",
    "    (iv) Quantitative data"
   ]
  },
  {
   "cell_type": "markdown",
   "id": "40d7620d-b715-4002-9942-8e58522b8b79",
   "metadata": {},
   "source": [
    "Q5. Explain the concept of levels of measurement and give an example of a variable for each level."
   ]
  },
  {
   "cell_type": "markdown",
   "id": "0b35cb91-c352-4d30-b4b4-6871a92b06f9",
   "metadata": {},
   "source": [
    "A5. Levels of measurement, also known as scales of measurement, refer to the different ways in which data can be classified or measured. There are four main levels of measurement: nominal, ordinal, interval, and ratio.\n",
    "\n",
    "1. Nominal Level: At the nominal level of measurement, data are categorized into distinct groups or categories. The values assigned to the data are labels or names that do not possess any inherent order or numerical value. Examples:\n",
    "\n",
    "   - Gender (categories: male, female)\n",
    "   - Eye color (categories: blue, brown, green)\n",
    "   - Marital status (categories: single, married, divorced)\n",
    "\n",
    "2. Ordinal Level: At the ordinal level of measurement, data can be ranked or ordered, but the differences between the categories may not be equal or measurable. The values represent a relative position or ranking. Examples:\n",
    "\n",
    "   - Education(categories: high school, bachelor's degree, master's degree)\n",
    "   - Rating scales (categories: strongly agree, agree, neutral, disagree, strongly disagree)\n",
    "   - Economic status (categories: low income, middle income, high income)\n",
    "\n",
    "3. Interval Level: At the interval level of measurement, data are measured on a scale with equal intervals between the values. The values represent both relative order and equal differences between categories, but there is no true zero point. Examples:\n",
    "\n",
    "   - Temperature measured in Celsius or Fahrenheit\n",
    "   - Years (e.g., 2000, 2005, 2010)\n",
    "   - IQ scores (e.g., 100, 120, 140)\n",
    "\n",
    "4. Ratio Level: At the ratio level of measurement, data are measured on a scale with equal intervals between the values and a true zero point. The values possess all the properties of the interval level but also allow for the calculation of ratios and meaningful comparisons. Examples:\n",
    "\n",
    "   - Height (e.g., 150 cm, 180 cm)\n",
    "   - Weight (e.g., 50 kg, 70 kg)\n",
    "   - Income (e.g., $5000, $10000)"
   ]
  },
  {
   "cell_type": "markdown",
   "id": "77d68515-3ab4-4075-b228-aa2f7bad1979",
   "metadata": {},
   "source": [
    "Q6. Why is it important to understand the level of measurement when analyzing data? Provide an example to illustrate your answer."
   ]
  },
  {
   "cell_type": "markdown",
   "id": "38d1f036-4d50-472d-9264-350824236cb7",
   "metadata": {},
   "source": [
    "A6. Understanding the level of measurement when analyzing data is crucial because it determines the appropriate statistical techniques and operations that can be applied to the data.\n",
    "\n",
    "Let's consider a scenario where we have data on the satisfaction level of customers in a restaurant. The data consists of responses on a Likert scale ranging from 1 to 5, where 1 represents \"Very Dissatisfied\" and 5 represents \"Very Satisfied.\"\n",
    "\n",
    "If we fail to recognize the level of measurement of this data and treat it as interval or ratio data, we might mistakenly perform operations that are not valid.\n",
    "\n",
    "By recognizing the level of measurement, we ensure that the statistical analysis aligns with the nature of the data and provides meaningful results. Using inappropriate techniques for a particular level of measurement can lead to erroneous conclusions and misinterpretations of the data. Therefore, understanding the level of measurement is crucial for accurate and valid data analysis."
   ]
  },
  {
   "cell_type": "markdown",
   "id": "b8b98dbd-e9ba-402b-a872-7d943416ea64",
   "metadata": {},
   "source": [
    "Q7. How nominal data type is different from ordinal data type."
   ]
  },
  {
   "cell_type": "markdown",
   "id": "18d30544-04a2-4231-86e7-c7f77536fb1d",
   "metadata": {},
   "source": [
    "A7. Nominal Data: \n",
    "    - Nominal data can’t be quantified, neither they have any intrinsic ordering.\n",
    "    - Nominal data is qualitative data or categorical data.\n",
    "    - They don’t provide any quantitative value, neither can we perform any arithmetical operation.\n",
    "    - Nominal data cannot be used to compare with one another.\n",
    "    - Examples: Eye color, gender, hair color, religion, marital status, etc\n",
    "    \n",
    "    \n",
    "Ordinal Data :\n",
    "    - Ordinal data gives some kind of sequential order by their position on the scale.\n",
    "    - Ordinal data is said to be “in-between” qualitative data and quantitative data.\n",
    "    - They provide sequence and can assign numbers to ordinal data but cannot perform the arithmetical operation.\n",
    "    - Ordinal data can help to compare one item with another by ranking or ordering.\n",
    "    - Examples: Economic status, customer satisfaction, education level, letter grades, etc "
   ]
  },
  {
   "cell_type": "markdown",
   "id": "0ff246fc-34c3-4866-860c-40bcd694e939",
   "metadata": {},
   "source": [
    "Q8. Which type of plot can be used to display data in terms of range?"
   ]
  },
  {
   "cell_type": "markdown",
   "id": "165fb6a9-3803-4a6c-8ba2-9bc43ad87fcc",
   "metadata": {},
   "source": [
    "A8. A plot that can be used to display data in terms of range is a range plot or range chart.\n",
    "\n",
    "- A range plot provides a visual representation of the minimum and maximum values of a dataset or a specific variable.\n",
    "- The range plot is especially useful when comparing ranges across different groups or categories.\n",
    "\n",
    "Other types of plots, such as box plots or error bars, can also provide information about the range of data."
   ]
  },
  {
   "cell_type": "markdown",
   "id": "50939453-7b66-484e-abb7-1fd64dd68868",
   "metadata": {},
   "source": [
    "Q9. Describe the difference between descriptive and inferential statistics. Give an example of each type of statistics and explain how they are used."
   ]
  },
  {
   "cell_type": "markdown",
   "id": "a6b35fce-bfd9-4601-b76e-d9be7b26eaa4",
   "metadata": {},
   "source": [
    "A9. Descriptive statistics and inferential statistics are two branches of statistical analysis that serve different purposes in understanding and interpreting data.\n",
    "\n",
    "Descriptive Statistics:\n",
    "Descriptive statistics involves summarizing, organizing, and describing the main features of a dataset. It focuses on providing clear and concise summaries of the data, such as measures of central tendency (mean, median, mode), measures of variability (standard deviation, range), and graphical representations (histograms, bar charts). Descriptive statistics are used to gain insights into the data and understand its basic characteristics.\n",
    "\n",
    "Example: Consider a dataset of the heights of students in a class. Descriptive statistics can be used to calculate the average height (mean), the most common height (mode), and the spread of heights (standard deviation) within the class. \n",
    "\n",
    "Inferential Statistics:\n",
    "Inferential statistics involves drawing conclusions or making inferences about a larger population based on a sample of data. It uses probability theory and statistical methods to generalize the findings from a sample to the entire population. They provide insights beyond the observed data and help in making informed decisions based on statistical evidence.\n",
    "\n",
    "Example: Hypothesis testing, where sample data is used to test a claim or hypothesis about a population and make conclusions about the population based on the results."
   ]
  },
  {
   "cell_type": "markdown",
   "id": "5607646f-6874-43bf-b17d-2edcbc256d64",
   "metadata": {},
   "source": [
    "Q10. What are some common measures of central tendency and variability used in statistics? Explain how each measure can be used to describe a dataset."
   ]
  },
  {
   "cell_type": "markdown",
   "id": "367f9a19-65f9-4568-be7e-5d1db5af07db",
   "metadata": {},
   "source": [
    "A10. Measures of Central Tendency :\n",
    "        In Mathematics, statistics are used to describe the central tendencies of the grouped and ungrouped data. The three measures of central tendency are:\n",
    "\n",
    "        - Mean: The mean represents the average value of the dataset\n",
    "        - Median: The median is the middle value in a dataset when the data is sorted in ascending or descending order.\n",
    "        - Mode: The mode is the value or values that appear most frequently in a dataset.\n",
    "        \n",
    "All three measures of central tendency are used to find the central value of the set of data.\n",
    "        \n",
    "Measures of variability :\n",
    "    - Range: The range is the simplest measure of variability and represents the difference between the maximum and minimum values in a dataset.\n",
    "    - Standard Deviation: The standard deviation measures the average amount of deviation or dispersion of data points from the mean. It quantifies   how spread out the data is around the mean.\n",
    "    - Variance: The variance is the average of the squared differences between each data point and the mean."
   ]
  }
 ],
 "metadata": {
  "kernelspec": {
   "display_name": "Python 3 (ipykernel)",
   "language": "python",
   "name": "python3"
  },
  "language_info": {
   "codemirror_mode": {
    "name": "ipython",
    "version": 3
   },
   "file_extension": ".py",
   "mimetype": "text/x-python",
   "name": "python",
   "nbconvert_exporter": "python",
   "pygments_lexer": "ipython3",
   "version": "3.10.8"
  }
 },
 "nbformat": 4,
 "nbformat_minor": 5
}
